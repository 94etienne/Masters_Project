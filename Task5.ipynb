{
  "metadata": {
    "colab": {
      "provenance": [],
      "gpuType": "T4"
    },
    "kernelspec": {
      "name": "python3",
      "display_name": "Python 3"
    },
    "language_info": {
      "name": "python",
      "version": "3.10.13",
      "mimetype": "text/x-python",
      "codemirror_mode": {
        "name": "ipython",
        "version": 3
      },
      "pygments_lexer": "ipython3",
      "nbconvert_exporter": "python",
      "file_extension": ".py"
    },
    "kaggle": {
      "accelerator": "gpu",
      "dataSources": [],
      "dockerImageVersionId": 30674,
      "isInternetEnabled": true,
      "language": "python",
      "sourceType": "notebook",
      "isGpuEnabled": true
    },
    "accelerator": "GPU"
  },
  "nbformat_minor": 0,
  "nbformat": 4,
  "cells": [
    {
      "cell_type": "code",
      "source": [
        "%matplotlib inline"
      ],
      "metadata": {
        "id": "IM8rcgktVoHV",
        "execution": {
          "iopub.status.busy": "2024-04-20T21:23:47.088669Z",
          "iopub.execute_input": "2024-04-20T21:23:47.089535Z",
          "iopub.status.idle": "2024-04-20T21:23:47.094552Z",
          "shell.execute_reply.started": "2024-04-20T21:23:47.089499Z",
          "shell.execute_reply": "2024-04-20T21:23:47.093614Z"
        },
        "trusted": true
      },
      "execution_count": 1,
      "outputs": []
    },
    {
      "cell_type": "code",
      "source": [
        "!pip install torchmetrics"
      ],
      "metadata": {
        "id": "-h5JlZQn9H99",
        "colab": {
          "base_uri": "https://localhost:8080/"
        },
        "outputId": "bfb945da-595f-4af0-de13-843146bfef53",
        "execution": {
          "iopub.status.busy": "2024-04-20T21:23:47.096289Z",
          "iopub.execute_input": "2024-04-20T21:23:47.096598Z",
          "iopub.status.idle": "2024-04-20T21:23:59.218415Z",
          "shell.execute_reply.started": "2024-04-20T21:23:47.096553Z",
          "shell.execute_reply": "2024-04-20T21:23:59.217199Z"
        },
        "trusted": true
      },
      "execution_count": 2,
      "outputs": [
        {
          "output_type": "stream",
          "name": "stdout",
          "text": [
            "Collecting torchmetrics\n",
            "  Downloading torchmetrics-1.3.2-py3-none-any.whl (841 kB)\n",
            "\u001b[?25l     \u001b[90m━━━━━━━━━━━━━━━━━━━━━━━━━━━━━━━━━━━━━━━━\u001b[0m \u001b[32m0.0/841.5 kB\u001b[0m \u001b[31m?\u001b[0m eta \u001b[36m-:--:--\u001b[0m\r\u001b[2K     \u001b[91m━━━━━━━━\u001b[0m\u001b[90m╺\u001b[0m\u001b[90m━━━━━━━━━━━━━━━━━━━━━━━━━━━━━━━\u001b[0m \u001b[32m174.1/841.5 kB\u001b[0m \u001b[31m5.2 MB/s\u001b[0m eta \u001b[36m0:00:01\u001b[0m\r\u001b[2K     \u001b[91m━━━━━━━━━━━━━━━━━━━━━━━━━━━━━━\u001b[0m\u001b[91m╸\u001b[0m\u001b[90m━━━━━━━━━\u001b[0m \u001b[32m645.1/841.5 kB\u001b[0m \u001b[31m9.2 MB/s\u001b[0m eta \u001b[36m0:00:01\u001b[0m\r\u001b[2K     \u001b[90m━━━━━━━━━━━━━━━━━━━━━━━━━━━━━━━━━━━━━━━━\u001b[0m \u001b[32m841.5/841.5 kB\u001b[0m \u001b[31m8.7 MB/s\u001b[0m eta \u001b[36m0:00:00\u001b[0m\n",
            "\u001b[?25hRequirement already satisfied: numpy>1.20.0 in /usr/local/lib/python3.10/dist-packages (from torchmetrics) (1.25.2)\n",
            "Requirement already satisfied: packaging>17.1 in /usr/local/lib/python3.10/dist-packages (from torchmetrics) (24.0)\n",
            "Requirement already satisfied: torch>=1.10.0 in /usr/local/lib/python3.10/dist-packages (from torchmetrics) (2.2.1+cu121)\n",
            "Collecting lightning-utilities>=0.8.0 (from torchmetrics)\n",
            "  Downloading lightning_utilities-0.11.2-py3-none-any.whl (26 kB)\n",
            "Requirement already satisfied: setuptools in /usr/local/lib/python3.10/dist-packages (from lightning-utilities>=0.8.0->torchmetrics) (67.7.2)\n",
            "Requirement already satisfied: typing-extensions in /usr/local/lib/python3.10/dist-packages (from lightning-utilities>=0.8.0->torchmetrics) (4.11.0)\n",
            "Requirement already satisfied: filelock in /usr/local/lib/python3.10/dist-packages (from torch>=1.10.0->torchmetrics) (3.13.4)\n",
            "Requirement already satisfied: sympy in /usr/local/lib/python3.10/dist-packages (from torch>=1.10.0->torchmetrics) (1.12)\n",
            "Requirement already satisfied: networkx in /usr/local/lib/python3.10/dist-packages (from torch>=1.10.0->torchmetrics) (3.3)\n",
            "Requirement already satisfied: jinja2 in /usr/local/lib/python3.10/dist-packages (from torch>=1.10.0->torchmetrics) (3.1.3)\n",
            "Requirement already satisfied: fsspec in /usr/local/lib/python3.10/dist-packages (from torch>=1.10.0->torchmetrics) (2023.6.0)\n",
            "Collecting nvidia-cuda-nvrtc-cu12==12.1.105 (from torch>=1.10.0->torchmetrics)\n",
            "  Using cached nvidia_cuda_nvrtc_cu12-12.1.105-py3-none-manylinux1_x86_64.whl (23.7 MB)\n",
            "Collecting nvidia-cuda-runtime-cu12==12.1.105 (from torch>=1.10.0->torchmetrics)\n",
            "  Using cached nvidia_cuda_runtime_cu12-12.1.105-py3-none-manylinux1_x86_64.whl (823 kB)\n",
            "Collecting nvidia-cuda-cupti-cu12==12.1.105 (from torch>=1.10.0->torchmetrics)\n",
            "  Using cached nvidia_cuda_cupti_cu12-12.1.105-py3-none-manylinux1_x86_64.whl (14.1 MB)\n",
            "Collecting nvidia-cudnn-cu12==8.9.2.26 (from torch>=1.10.0->torchmetrics)\n",
            "  Using cached nvidia_cudnn_cu12-8.9.2.26-py3-none-manylinux1_x86_64.whl (731.7 MB)\n",
            "Collecting nvidia-cublas-cu12==12.1.3.1 (from torch>=1.10.0->torchmetrics)\n",
            "  Using cached nvidia_cublas_cu12-12.1.3.1-py3-none-manylinux1_x86_64.whl (410.6 MB)\n",
            "Collecting nvidia-cufft-cu12==11.0.2.54 (from torch>=1.10.0->torchmetrics)\n",
            "  Using cached nvidia_cufft_cu12-11.0.2.54-py3-none-manylinux1_x86_64.whl (121.6 MB)\n",
            "Collecting nvidia-curand-cu12==10.3.2.106 (from torch>=1.10.0->torchmetrics)\n",
            "  Using cached nvidia_curand_cu12-10.3.2.106-py3-none-manylinux1_x86_64.whl (56.5 MB)\n",
            "Collecting nvidia-cusolver-cu12==11.4.5.107 (from torch>=1.10.0->torchmetrics)\n",
            "  Using cached nvidia_cusolver_cu12-11.4.5.107-py3-none-manylinux1_x86_64.whl (124.2 MB)\n",
            "Collecting nvidia-cusparse-cu12==12.1.0.106 (from torch>=1.10.0->torchmetrics)\n",
            "  Using cached nvidia_cusparse_cu12-12.1.0.106-py3-none-manylinux1_x86_64.whl (196.0 MB)\n",
            "Collecting nvidia-nccl-cu12==2.19.3 (from torch>=1.10.0->torchmetrics)\n",
            "  Using cached nvidia_nccl_cu12-2.19.3-py3-none-manylinux1_x86_64.whl (166.0 MB)\n",
            "Collecting nvidia-nvtx-cu12==12.1.105 (from torch>=1.10.0->torchmetrics)\n",
            "  Using cached nvidia_nvtx_cu12-12.1.105-py3-none-manylinux1_x86_64.whl (99 kB)\n",
            "Requirement already satisfied: triton==2.2.0 in /usr/local/lib/python3.10/dist-packages (from torch>=1.10.0->torchmetrics) (2.2.0)\n",
            "Collecting nvidia-nvjitlink-cu12 (from nvidia-cusolver-cu12==11.4.5.107->torch>=1.10.0->torchmetrics)\n",
            "  Using cached nvidia_nvjitlink_cu12-12.4.127-py3-none-manylinux2014_x86_64.whl (21.1 MB)\n",
            "Requirement already satisfied: MarkupSafe>=2.0 in /usr/local/lib/python3.10/dist-packages (from jinja2->torch>=1.10.0->torchmetrics) (2.1.5)\n",
            "Requirement already satisfied: mpmath>=0.19 in /usr/local/lib/python3.10/dist-packages (from sympy->torch>=1.10.0->torchmetrics) (1.3.0)\n",
            "Installing collected packages: nvidia-nvtx-cu12, nvidia-nvjitlink-cu12, nvidia-nccl-cu12, nvidia-curand-cu12, nvidia-cufft-cu12, nvidia-cuda-runtime-cu12, nvidia-cuda-nvrtc-cu12, nvidia-cuda-cupti-cu12, nvidia-cublas-cu12, lightning-utilities, nvidia-cusparse-cu12, nvidia-cudnn-cu12, nvidia-cusolver-cu12, torchmetrics\n",
            "Successfully installed lightning-utilities-0.11.2 nvidia-cublas-cu12-12.1.3.1 nvidia-cuda-cupti-cu12-12.1.105 nvidia-cuda-nvrtc-cu12-12.1.105 nvidia-cuda-runtime-cu12-12.1.105 nvidia-cudnn-cu12-8.9.2.26 nvidia-cufft-cu12-11.0.2.54 nvidia-curand-cu12-10.3.2.106 nvidia-cusolver-cu12-11.4.5.107 nvidia-cusparse-cu12-12.1.0.106 nvidia-nccl-cu12-2.19.3 nvidia-nvjitlink-cu12-12.4.127 nvidia-nvtx-cu12-12.1.105 torchmetrics-1.3.2\n"
          ]
        }
      ]
    },
    {
      "cell_type": "markdown",
      "source": [
        "Translation with a Sequence to Sequence Network\n",
        "*************************************************************\n",
        "\n",
        "::\n",
        "\n",
        "    [KEY: > input, = target, < output]\n",
        "\n",
        "    > il est en train de peindre un tableau .\n",
        "    = he is painting a picture .\n",
        "    < he is painting a picture .\n",
        "\n",
        "    > pourquoi ne pas essayer ce vin delicieux ?\n",
        "    = why not try that delicious wine ?\n",
        "    < why not try that delicious wine ?\n",
        "\n",
        "    > elle n est pas poete mais romanciere .\n",
        "    = she is not a poet but a novelist .\n",
        "    < she not not a poet but a novelist .\n",
        "\n",
        "    > vous etes trop maigre .\n",
        "    = you re too skinny .\n",
        "    < you re all alone .\n",
        "\n",
        "... to varying degrees of success.\n",
        "\n",
        "This is made possible by the simple but powerful idea of the `sequence\n",
        "to sequence network <http://arxiv.org/abs/1409.3215>`__, in which two\n",
        "recurrent neural networks work together to transform one sequence to\n",
        "another. An encoder network condenses an input sequence into a vector,\n",
        "and a decoder network unfolds that vector into a new sequence.\n",
        "\n",
        ".. figure:: /_static/img/seq-seq-images/seq2seq.png\n",
        "   :alt:\n",
        "\n",
        "To improve upon this model we'll use an `attention\n",
        "mechanism <https://arxiv.org/abs/1409.0473>`__, which lets the decoder\n",
        "learn to focus over a specific range of the input sequence.\n",
        "\n",
        "**Recommended Reading:**\n",
        "\n",
        "I assume you have at least installed PyTorch, know Python, and\n",
        "understand Tensors:\n",
        "\n",
        "-  http://pytorch.org/ For installation instructions\n",
        "-  :doc:`/beginner/deep_learning_60min_blitz` to get started with PyTorch in general\n",
        "-  :doc:`/beginner/pytorch_with_examples` for a wide and deep overview\n",
        "-  :doc:`/beginner/former_torchies_tutorial` if you are former Lua Torch user\n",
        "\n",
        "\n",
        "It would also be useful to know about Sequence to Sequence networks and\n",
        "how they work:\n",
        "\n",
        "-  `Learning Phrase Representations using RNN Encoder-Decoder for\n",
        "   Statistical Machine Translation <http://arxiv.org/abs/1406.1078>`__\n",
        "-  `Sequence to Sequence Learning with Neural\n",
        "   Networks <http://arxiv.org/abs/1409.3215>`__\n",
        "-  `Neural Machine Translation by Jointly Learning to Align and\n",
        "   Translate <https://arxiv.org/abs/1409.0473>`__\n",
        "-  `A Neural Conversational Model <http://arxiv.org/abs/1506.05869>`__\n",
        "\n",
        "You will also find the previous tutorials on\n",
        ":doc:`/intermediate/char_rnn_classification_tutorial`\n",
        "and :doc:`/intermediate/char_rnn_generation_tutorial`\n",
        "helpful as those concepts are very similar to the Encoder and Decoder\n",
        "models, respectively.\n",
        "\n",
        "And for more, read the papers that introduced these topics:\n",
        "\n",
        "-  `Learning Phrase Representations using RNN Encoder-Decoder for\n",
        "   Statistical Machine Translation <http://arxiv.org/abs/1406.1078>`__\n",
        "-  `Sequence to Sequence Learning with Neural\n",
        "   Networks <http://arxiv.org/abs/1409.3215>`__\n",
        "-  `Neural Machine Translation by Jointly Learning to Align and\n",
        "   Translate <https://arxiv.org/abs/1409.0473>`__\n",
        "-  `A Neural Conversational Model <http://arxiv.org/abs/1506.05869>`__\n",
        "\n",
        "\n",
        "**Requirements**\n",
        "\n"
      ],
      "metadata": {
        "id": "XmKXEj7rMI9E"
      }
    },
    {
      "cell_type": "markdown",
      "source": [
        "Loading data files\n",
        "==================\n",
        "\n",
        "The data for this project is a set of many thousands of English to\n",
        "French translation pairs.\n",
        "\n",
        "`This question on Open Data Stack\n",
        "Exchange <http://opendata.stackexchange.com/questions/3888/dataset-of-sentences-translated-into-many-languages>`__\n",
        "pointed me to the open translation site http://tatoeba.org/ which has\n",
        "downloads available at http://tatoeba.org/eng/downloads - and better\n",
        "yet, someone did the extra work of splitting language pairs into\n",
        "individual text files here: http://www.manythings.org/anki/\n",
        "\n",
        "The English to French pairs are too big to include in the repo, so\n",
        "download to ``data/eng-fra.txt`` before continuing. The file is a tab\n",
        "separated list of translation pairs:\n",
        "\n",
        "::\n",
        "\n",
        "    I am cold.    J'ai froid.\n",
        "\n",
        ".. Note::\n",
        "   Download the data from\n",
        "   `here <https://download.pytorch.org/tutorial/data.zip>`_\n",
        "   and extract it to the current directory.\n",
        "\n"
      ],
      "metadata": {
        "id": "OrgMvmAeMI9J"
      }
    },
    {
      "cell_type": "code",
      "source": [
        "!wget http://www.manythings.org/anki/fra-eng.zip\n",
        "!unzip -o fra-eng.zip\n",
        "!mkdir data\n",
        "!mv fra.txt data/eng-fra.txt"
      ],
      "metadata": {
        "id": "AUGpVT3MC9ZA",
        "execution": {
          "iopub.status.busy": "2024-04-20T21:23:59.220008Z",
          "iopub.execute_input": "2024-04-20T21:23:59.220357Z",
          "iopub.status.idle": "2024-04-20T21:24:04.831116Z",
          "shell.execute_reply.started": "2024-04-20T21:23:59.220328Z",
          "shell.execute_reply": "2024-04-20T21:24:04.829756Z"
        },
        "trusted": true,
        "colab": {
          "base_uri": "https://localhost:8080/"
        },
        "outputId": "c377db60-dbcc-4dc4-a1ab-3e08c55a6d8f"
      },
      "execution_count": 3,
      "outputs": [
        {
          "output_type": "stream",
          "name": "stdout",
          "text": [
            "--2024-04-22 13:37:28--  http://www.manythings.org/anki/fra-eng.zip\n",
            "Resolving www.manythings.org (www.manythings.org)... 173.254.30.110\n",
            "Connecting to www.manythings.org (www.manythings.org)|173.254.30.110|:80... connected.\n",
            "HTTP request sent, awaiting response... 200 OK\n",
            "Length: 7943074 (7.6M) [application/zip]\n",
            "Saving to: ‘fra-eng.zip’\n",
            "\n",
            "fra-eng.zip         100%[===================>]   7.57M  37.5MB/s    in 0.2s    \n",
            "\n",
            "2024-04-22 13:37:29 (37.5 MB/s) - ‘fra-eng.zip’ saved [7943074/7943074]\n",
            "\n",
            "Archive:  fra-eng.zip\n",
            "  inflating: _about.txt              \n",
            "  inflating: fra.txt                 \n"
          ]
        }
      ]
    },
    {
      "cell_type": "code",
      "source": [
        "from __future__ import unicode_literals, print_function, division\n",
        "from io import open\n",
        "import unicodedata\n",
        "import string\n",
        "import re\n",
        "import random\n",
        "SOS_token = 0\n",
        "EOS_token = 1\n",
        "\n",
        "\n",
        "class Lang:\n",
        "    def __init__(self, name):\n",
        "        self.name = name\n",
        "        self.word2index = {}\n",
        "        self.word2count = {}\n",
        "        self.index2word = {0: \"SOS\", 1: \"EOS\"}\n",
        "        self.n_words = 2  # Count SOS and EOS\n",
        "\n",
        "    def addSentence(self, sentence):\n",
        "        for word in sentence.split(' '):\n",
        "            self.addWord(word)\n",
        "\n",
        "    def addWord(self, word):\n",
        "        if word not in self.word2index:\n",
        "            self.word2index[word] = self.n_words\n",
        "            self.word2count[word] = 1\n",
        "            self.index2word[self.n_words] = word\n",
        "            self.n_words += 1\n",
        "        else:\n",
        "            self.word2count[word] += 1\n",
        "import torch\n",
        "import torch.nn as nn\n",
        "from torch import optim\n",
        "import torch.nn.functional as F\n",
        "\n",
        "device = torch.device(\"cuda\" if torch.cuda.is_available() else \"cpu\")"
      ],
      "metadata": {
        "id": "RZKd8K4BfBM1",
        "execution": {
          "iopub.status.busy": "2024-04-20T21:24:04.834354Z",
          "iopub.execute_input": "2024-04-20T21:24:04.835203Z",
          "iopub.status.idle": "2024-04-20T21:24:04.847058Z",
          "shell.execute_reply.started": "2024-04-20T21:24:04.835158Z",
          "shell.execute_reply": "2024-04-20T21:24:04.845614Z"
        },
        "trusted": true
      },
      "execution_count": 4,
      "outputs": []
    },
    {
      "cell_type": "markdown",
      "source": [
        "The files are all in Unicode, to simplify we will turn Unicode\n",
        "characters to ASCII, make everything lowercase, and trim most\n",
        "punctuation.\n",
        "\n",
        "\n"
      ],
      "metadata": {
        "id": "IQpwb8giMI9S"
      }
    },
    {
      "cell_type": "code",
      "source": [
        "# Turn a Unicode string to plain ASCII, thanks to\n",
        "# http://stackoverflow.com/a/518232/2809427\n",
        "def unicodeToAscii(s):\n",
        "    return ''.join(\n",
        "        c for c in unicodedata.normalize('NFD', s)\n",
        "        if unicodedata.category(c) != 'Mn'\n",
        "    )\n",
        "\n",
        "# Lowercase, trim, and remove non-letter characters\n",
        "\n",
        "\n",
        "def normalizeString(s):\n",
        "    s = unicodeToAscii(s.lower().strip())\n",
        "    s = re.sub(r\"([.!?])\", r\" \\1\", s)\n",
        "    s = re.sub(r\"[^a-zA-Z.!?]+\", r\" \", s)\n",
        "    return s"
      ],
      "metadata": {
        "id": "WtFJGPPytPV4",
        "execution": {
          "iopub.status.busy": "2024-04-20T21:24:04.848417Z",
          "iopub.execute_input": "2024-04-20T21:24:04.848839Z",
          "iopub.status.idle": "2024-04-20T21:24:04.861568Z",
          "shell.execute_reply.started": "2024-04-20T21:24:04.848807Z",
          "shell.execute_reply": "2024-04-20T21:24:04.860586Z"
        },
        "trusted": true
      },
      "execution_count": 5,
      "outputs": []
    },
    {
      "cell_type": "markdown",
      "source": [
        "To read the data file we will split the file into lines, and then split\n",
        "lines into pairs. The files are all English → Other Language, so if we\n",
        "want to translate from Other Language → English I added the ``reverse``\n",
        "flag to reverse the pairs.\n",
        "\n",
        "\n"
      ],
      "metadata": {
        "id": "49xLMyaYMI9X"
      }
    },
    {
      "cell_type": "code",
      "source": [
        "def readLangs(lang1, lang2, reverse=False):\n",
        "    print(\"Reading lines...\")\n",
        "\n",
        "    # Read the file and split into lines\n",
        "    lines = open('data/%s-%s.txt' % (lang1, lang2), encoding='utf-8').\\\n",
        "        read().strip().split('\\n')\n",
        "\n",
        "    # Split every line into pairs and normalize\n",
        "    pairs = [[normalizeString(s) for s in l.split('\\t')[:2]] for l in lines]\n",
        "\n",
        "    # Reverse pairs, make Lang instances\n",
        "    if reverse:\n",
        "        pairs = [list(reversed(p)) for p in pairs]\n",
        "        input_lang = Lang(lang2)\n",
        "        output_lang = Lang(lang1)\n",
        "    else:\n",
        "        input_lang = Lang(lang1)\n",
        "        output_lang = Lang(lang2)\n",
        "\n",
        "    return input_lang, output_lang, pairs"
      ],
      "metadata": {
        "id": "AVZyk7glkhZ2",
        "execution": {
          "iopub.status.busy": "2024-04-20T21:24:04.863223Z",
          "iopub.execute_input": "2024-04-20T21:24:04.863545Z",
          "iopub.status.idle": "2024-04-20T21:24:04.873307Z",
          "shell.execute_reply.started": "2024-04-20T21:24:04.863520Z",
          "shell.execute_reply": "2024-04-20T21:24:04.872358Z"
        },
        "trusted": true
      },
      "execution_count": 6,
      "outputs": []
    },
    {
      "cell_type": "markdown",
      "source": [
        "Since there are a *lot* of example sentences and we want to train\n",
        "something quickly, we'll trim the data set to only relatively short and\n",
        "simple sentences. Here the maximum length is 10 words (that includes\n",
        "ending punctuation) and we're filtering to sentences that translate to\n",
        "the form \"I am\" or \"He is\" etc. (accounting for apostrophes replaced\n",
        "earlier).\n",
        "\n",
        "\n"
      ],
      "metadata": {
        "id": "_QGX-Ffq6Iii"
      }
    },
    {
      "cell_type": "code",
      "source": [
        "MAX_LENGTH = 15\n",
        "\n",
        "eng_prefixes = (\n",
        "    \"i am\", \"i m\",\n",
        "    \"he is\", \"he s\",\n",
        "    \"she is\", \"she s\",\n",
        "    \"you are\", \"you re\",\n",
        "    \"we are\", \"we re\",\n",
        "    \"they are\", \"they re\"\n",
        ")\n",
        "\n",
        "\n",
        "def filterPair(p):\n",
        "    return len(p[0].split(' ')) < MAX_LENGTH and \\\n",
        "        len(p[1].split(' ')) < MAX_LENGTH and \\\n",
        "        p[1].startswith(eng_prefixes)\n",
        "\n",
        "\n",
        "def filterPairs(pairs):\n",
        "    return [pair for pair in pairs if filterPair(pair)]"
      ],
      "metadata": {
        "id": "8t1N5cYalfJS",
        "execution": {
          "iopub.status.busy": "2024-04-20T21:24:04.874304Z",
          "iopub.execute_input": "2024-04-20T21:24:04.874623Z",
          "iopub.status.idle": "2024-04-20T21:24:04.886733Z",
          "shell.execute_reply.started": "2024-04-20T21:24:04.874591Z",
          "shell.execute_reply": "2024-04-20T21:24:04.885852Z"
        },
        "trusted": true
      },
      "execution_count": 7,
      "outputs": []
    },
    {
      "cell_type": "markdown",
      "source": [
        "The full process for preparing the data is:\n",
        "\n",
        "-  Read text file and split into lines, split lines into pairs\n",
        "-  Normalize text, filter by length and content\n",
        "-  Make word lists from sentences in pairs\n",
        "\n",
        "\n"
      ],
      "metadata": {
        "id": "6A4Kf_ie6Jyr"
      }
    },
    {
      "cell_type": "code",
      "source": [
        "def prepareData(lang1, lang2, reverse=False):\n",
        "    input_lang, output_lang, pairs = readLangs(lang1, lang2, reverse)\n",
        "    print(\"Read %s sentence pairs\" % len(pairs))\n",
        "    pairs = filterPairs(pairs)\n",
        "    print(\"Trimmed to %s sentence pairs\" % len(pairs))\n",
        "    print(\"Counting words...\")\n",
        "    for pair in pairs:\n",
        "        input_lang.addSentence(pair[0])\n",
        "        output_lang.addSentence(pair[1])\n",
        "    print(\"Counted words:\")\n",
        "    print(input_lang.name, input_lang.n_words)\n",
        "    print(output_lang.name, output_lang.n_words)\n",
        "    return input_lang, output_lang, pairs\n",
        "\n",
        "\n",
        "input_lang, output_lang, pairs = prepareData('eng', 'fra', True)\n",
        "#print(random.choice(pairs))"
      ],
      "metadata": {
        "id": "YnGQl472lg0-",
        "execution": {
          "iopub.status.busy": "2024-04-20T21:24:04.888008Z",
          "iopub.execute_input": "2024-04-20T21:24:04.888418Z",
          "iopub.status.idle": "2024-04-20T21:24:16.963683Z",
          "shell.execute_reply.started": "2024-04-20T21:24:04.888386Z",
          "shell.execute_reply": "2024-04-20T21:24:16.962778Z"
        },
        "trusted": true,
        "colab": {
          "base_uri": "https://localhost:8080/"
        },
        "outputId": "50e1d199-cab1-4cc5-be7a-9303e69f250c"
      },
      "execution_count": 8,
      "outputs": [
        {
          "output_type": "stream",
          "name": "stdout",
          "text": [
            "Reading lines...\n",
            "Read 232736 sentence pairs\n",
            "Trimmed to 22907 sentence pairs\n",
            "Counting words...\n",
            "Counted words:\n",
            "fra 7019\n",
            "eng 4638\n"
          ]
        }
      ]
    },
    {
      "cell_type": "code",
      "source": [
        "from sklearn.model_selection import train_test_split"
      ],
      "metadata": {
        "id": "Tt6luSw3ym6k",
        "execution": {
          "iopub.status.busy": "2024-04-20T21:24:16.967715Z",
          "iopub.execute_input": "2024-04-20T21:24:16.968174Z",
          "iopub.status.idle": "2024-04-20T21:24:17.556404Z",
          "shell.execute_reply.started": "2024-04-20T21:24:16.968137Z",
          "shell.execute_reply": "2024-04-20T21:24:17.555607Z"
        },
        "trusted": true
      },
      "execution_count": 9,
      "outputs": []
    },
    {
      "cell_type": "code",
      "source": [
        "X = [i[0] for i in pairs]\n",
        "y = [i[1] for i in pairs]"
      ],
      "metadata": {
        "id": "R50-9amYytmD",
        "execution": {
          "iopub.status.busy": "2024-04-20T21:24:17.557443Z",
          "iopub.execute_input": "2024-04-20T21:24:17.557913Z",
          "iopub.status.idle": "2024-04-20T21:24:17.567071Z",
          "shell.execute_reply.started": "2024-04-20T21:24:17.557880Z",
          "shell.execute_reply": "2024-04-20T21:24:17.566130Z"
        },
        "trusted": true
      },
      "execution_count": 10,
      "outputs": []
    },
    {
      "cell_type": "code",
      "source": [
        "X_train, X_test, y_train, y_test = train_test_split(X, y, test_size=0.1, random_state=42)"
      ],
      "metadata": {
        "id": "Ej3a3AvYyoI1",
        "execution": {
          "iopub.status.busy": "2024-04-20T21:24:17.568215Z",
          "iopub.execute_input": "2024-04-20T21:24:17.568482Z",
          "iopub.status.idle": "2024-04-20T21:24:17.591772Z",
          "shell.execute_reply.started": "2024-04-20T21:24:17.568459Z",
          "shell.execute_reply": "2024-04-20T21:24:17.590750Z"
        },
        "trusted": true
      },
      "execution_count": 11,
      "outputs": []
    },
    {
      "cell_type": "code",
      "source": [
        "train_pairs = list(zip(X_train,y_train))\n",
        "test_pairs = list(zip(X_test,y_test))"
      ],
      "metadata": {
        "id": "X-69f4nmy5ph",
        "execution": {
          "iopub.status.busy": "2024-04-20T21:24:17.593039Z",
          "iopub.execute_input": "2024-04-20T21:24:17.593869Z",
          "iopub.status.idle": "2024-04-20T21:24:17.603106Z",
          "shell.execute_reply.started": "2024-04-20T21:24:17.593836Z",
          "shell.execute_reply": "2024-04-20T21:24:17.602111Z"
        },
        "trusted": true
      },
      "execution_count": 12,
      "outputs": []
    },
    {
      "cell_type": "markdown",
      "source": [
        "The Seq2Seq Model\n",
        "=================\n",
        "\n",
        "A Recurrent Neural Network, or RNN, is a network that operates on a\n",
        "sequence and uses its own output as input for subsequent steps.\n",
        "\n",
        "A `Sequence to Sequence network <http://arxiv.org/abs/1409.3215>`__, or\n",
        "seq2seq network, or `Encoder Decoder\n",
        "network <https://arxiv.org/pdf/1406.1078v3.pdf>`__, is a model\n",
        "consisting of two RNNs called the encoder and decoder. The encoder reads\n",
        "an input sequence and outputs a single vector, and the decoder reads\n",
        "that vector to produce an output sequence.\n",
        "\n",
        "Unlike sequence prediction with a single RNN, where every input\n",
        "corresponds to an output, the seq2seq model frees us from sequence\n",
        "length and order, which makes it ideal for translation between two\n",
        "languages.\n",
        "\n",
        "Consider the sentence \"Je ne suis pas le chat noir\" → \"I am not the\n",
        "black cat\". Most of the words in the input sentence have a direct\n",
        "translation in the output sentence, but are in slightly different\n",
        "orders, e.g. \"chat noir\" and \"black cat\". Because of the \"ne/pas\"\n",
        "construction there is also one more word in the input sentence. It would\n",
        "be difficult to produce a correct translation directly from the sequence\n",
        "of input words.\n",
        "\n",
        "With a seq2seq model the encoder creates a single vector which, in the\n",
        "ideal case, encodes the \"meaning\" of the input sequence into a single\n",
        "vector — a single point in some N dimensional space of sentences.\n",
        "\n",
        "\n"
      ],
      "metadata": {
        "id": "8XxL347dMI9p"
      }
    },
    {
      "cell_type": "markdown",
      "source": [
        "The Encoder\n",
        "-----------\n",
        "\n",
        "The encoder of a seq2seq network is a RNN that outputs some value for\n",
        "every word from the input sentence. For every input word the encoder\n",
        "outputs a vector and a hidden state, and uses the hidden state for the\n",
        "next input word.\n",
        "\n",
        "\n",
        "\n",
        "\n"
      ],
      "metadata": {
        "id": "-YkUkdswMI9q"
      }
    },
    {
      "cell_type": "code",
      "source": [
        "class EncoderRNN(nn.Module):\n",
        "    def __init__(self, input_size, hidden_size):\n",
        "        super(EncoderRNN, self).__init__()\n",
        "        self.hidden_size = hidden_size\n",
        "\n",
        "        self.embedding = nn.Embedding(input_size, hidden_size)\n",
        "        self.gru = nn.GRU(hidden_size, hidden_size)\n",
        "\n",
        "    def forward(self, input, hidden):\n",
        "        embedded = self.embedding(input).view(1, 1, -1)\n",
        "        output = embedded\n",
        "        output, hidden = self.gru(output, hidden)\n",
        "        return output, hidden\n",
        "\n",
        "    def initHidden(self):\n",
        "        return torch.zeros(1, 1, self.hidden_size, device=device)"
      ],
      "metadata": {
        "id": "O0aZQW30liTF",
        "execution": {
          "iopub.status.busy": "2024-04-20T21:24:17.604165Z",
          "iopub.execute_input": "2024-04-20T21:24:17.604431Z",
          "iopub.status.idle": "2024-04-20T21:24:17.613540Z",
          "shell.execute_reply.started": "2024-04-20T21:24:17.604408Z",
          "shell.execute_reply": "2024-04-20T21:24:17.612745Z"
        },
        "trusted": true
      },
      "execution_count": 13,
      "outputs": []
    },
    {
      "cell_type": "markdown",
      "source": [
        "The Decoder (Your assignment)\n",
        "-----------\n",
        "\n",
        "The decoder is another RNN that takes the encoder output vector(s) and\n",
        "outputs a sequence of words to create the translation.\n",
        "\n",
        "\n"
      ],
      "metadata": {
        "id": "TvouslB-MI9t"
      }
    },
    {
      "cell_type": "markdown",
      "source": [
        "Simple Decoder\n",
        "^^^^^^^^^^^^^^\n",
        "\n",
        "In the simplest seq2seq decoder we use only last output of the encoder.\n",
        "This last output is sometimes called the *context vector* as it encodes\n",
        "context from the entire sequence. This context vector is used as the\n",
        "initial hidden state of the decoder.\n",
        "\n",
        "At every step of decoding, the decoder is given an input token and\n",
        "hidden state. The initial input token is the start-of-string ``<SOS>``\n",
        "token, and the first hidden state is the context vector (the encoder's\n",
        "last hidden state).\n"
      ],
      "metadata": {
        "id": "ccvXiDVAMI9u"
      }
    },
    {
      "cell_type": "code",
      "source": [
        "class AttnDecoderRNN(nn.Module):\n",
        "    def __init__(self, hidden_size, output_size, dropout_p=0.1, max_length=MAX_LENGTH):\n",
        "        super(AttnDecoderRNN, self).__init__()\n",
        "        self.hidden_size = hidden_size\n",
        "        self.output_size = output_size\n",
        "        self.dropout_p = dropout_p\n",
        "        self.max_length = max_length\n",
        "\n",
        "        self.embedding = nn.Embedding(self.output_size, self.hidden_size)\n",
        "        self.attn = nn.Linear(self.hidden_size * 2, self.max_length)\n",
        "        self.attn_combine = nn.Linear(self.hidden_size * 2, self.hidden_size)\n",
        "        self.dropout = nn.Dropout(self.dropout_p)\n",
        "        self.gru = nn.GRU(self.hidden_size, self.hidden_size)\n",
        "        self.out = nn.Linear(self.hidden_size, self.output_size)\n",
        "\n",
        "    def forward(self, input, hidden, encoder_outputs):\n",
        "        embedded = self.embedding(input).view(1, 1, -1)\n",
        "        embedded = self.dropout(embedded)\n",
        "\n",
        "        attn_weights = F.softmax(\n",
        "            self.attn(torch.cat((embedded[0], hidden[0]), 1)), dim=1)\n",
        "        attn_applied = torch.bmm(attn_weights.unsqueeze(0),\n",
        "                                 encoder_outputs.unsqueeze(0))\n",
        "\n",
        "        output = torch.cat((embedded[0], attn_applied[0]), 1)\n",
        "        output = self.attn_combine(output).unsqueeze(0)\n",
        "\n",
        "        output = F.relu(output)\n",
        "        output, hidden = self.gru(output, hidden)\n",
        "\n",
        "        output = F.log_softmax(self.out(output[0]), dim=1)\n",
        "        return output, hidden, attn_weights\n",
        "\n",
        "    def initHidden(self):\n",
        "        return torch.zeros(1, 1, self.hidden_size, device=device)\n"
      ],
      "metadata": {
        "id": "DNY63vmP7pZT",
        "execution": {
          "iopub.status.busy": "2024-04-20T21:24:17.614653Z",
          "iopub.execute_input": "2024-04-20T21:24:17.614912Z",
          "iopub.status.idle": "2024-04-20T21:24:17.627478Z",
          "shell.execute_reply.started": "2024-04-20T21:24:17.614889Z",
          "shell.execute_reply": "2024-04-20T21:24:17.626689Z"
        },
        "trusted": true
      },
      "execution_count": 14,
      "outputs": []
    },
    {
      "cell_type": "markdown",
      "source": [
        "<div class=\"alert alert-info\"><h4>Note</h4><p>There are other forms of attention that work around the length\n",
        "  limitation by using a relative position approach. Read about \"local\n",
        "  attention\" in `Effective Approaches to Attention-based Neural Machine\n",
        "  Translation <https://arxiv.org/abs/1508.04025>`__.</p></div>\n",
        "\n",
        "Training\n",
        "========\n",
        "\n",
        "Preparing Training Data\n",
        "-----------------------\n",
        "\n",
        "To train, for each pair we will need an input tensor (indexes of the\n",
        "words in the input sentence) and target tensor (indexes of the words in\n",
        "the target sentence). While creating these vectors we will append the\n",
        "EOS token to both sequences.\n",
        "\n",
        "\n"
      ],
      "metadata": {
        "id": "gJTli8NHMI91"
      }
    },
    {
      "cell_type": "code",
      "source": [
        "def indexesFromSentence(lang, sentence):\n",
        "    return [lang.word2index[word] for word in sentence.split(' ')]\n",
        "\n",
        "\n",
        "def tensorFromSentence(lang, sentence):\n",
        "    indexes = indexesFromSentence(lang, sentence)\n",
        "    indexes.append(EOS_token)\n",
        "    return torch.tensor(indexes, dtype=torch.long, device=device).view(-1, 1)\n",
        "\n",
        "\n",
        "def tensorsFromPair(pair):\n",
        "    input_tensor = tensorFromSentence(input_lang, pair[0])\n",
        "    target_tensor = tensorFromSentence(output_lang, pair[1])\n",
        "    return (input_tensor, target_tensor)"
      ],
      "metadata": {
        "id": "WrWHiE1RLtCz",
        "execution": {
          "iopub.status.busy": "2024-04-20T21:24:17.628450Z",
          "iopub.execute_input": "2024-04-20T21:24:17.628728Z",
          "iopub.status.idle": "2024-04-20T21:24:17.642091Z",
          "shell.execute_reply.started": "2024-04-20T21:24:17.628705Z",
          "shell.execute_reply": "2024-04-20T21:24:17.641325Z"
        },
        "trusted": true
      },
      "execution_count": 15,
      "outputs": []
    },
    {
      "cell_type": "markdown",
      "source": [
        "Training the Model\n",
        "------------------\n",
        "\n",
        "To train we run the input sentence through the encoder, and keep track\n",
        "of every output and the latest hidden state. Then the decoder is given\n",
        "the ``<SOS>`` token as its first input, and the last hidden state of the\n",
        "encoder as its first hidden state.\n",
        "\n",
        "\"Teacher forcing\" is the concept of using the real target outputs as\n",
        "each next input, instead of using the decoder's guess as the next input.\n",
        "Using teacher forcing causes it to converge faster but `when the trained\n",
        "network is exploited, it may exhibit\n",
        "instability <http://minds.jacobs-university.de/sites/default/files/uploads/papers/ESNTutorialRev.pdf>`__.\n",
        "\n",
        "You can observe outputs of teacher-forced networks that read with\n",
        "coherent grammar but wander far from the correct translation -\n",
        "intuitively it has learned to represent the output grammar and can \"pick\n",
        "up\" the meaning once the teacher tells it the first few words, but it\n",
        "has not properly learned how to create the sentence from the translation\n",
        "in the first place.\n",
        "\n",
        "Because of the freedom PyTorch's autograd gives us, we can randomly\n",
        "choose to use teacher forcing or not with a simple if statement. Turn\n",
        "``teacher_forcing_ratio`` up to use more of it.\n",
        "\n",
        "\n"
      ],
      "metadata": {
        "id": "0-s0fPrIMI99"
      }
    },
    {
      "cell_type": "code",
      "source": [
        "teacher_forcing_ratio = 0.5\n",
        "def train(input_tensor, target_tensor, encoder, decoder, encoder_optimizer, decoder_optimizer, criterion, max_length=MAX_LENGTH):\n",
        "    encoder_hidden = encoder.initHidden()\n",
        "\n",
        "    encoder_optimizer.zero_grad()\n",
        "    decoder_optimizer.zero_grad()\n",
        "\n",
        "    input_length = input_tensor.size(0)\n",
        "    target_length = target_tensor.size(0)\n",
        "\n",
        "    encoder_outputs = torch.zeros(max_length, encoder.hidden_size, device=device)\n",
        "\n",
        "    loss = 0\n",
        "\n",
        "    for ei in range(input_length):\n",
        "        encoder_output, encoder_hidden = encoder(input_tensor[ei], encoder_hidden)\n",
        "        encoder_outputs[ei] = encoder_output[0, 0]\n",
        "\n",
        "    decoder_input = torch.tensor([[SOS_token]], device=device)\n",
        "\n",
        "    decoder_hidden = encoder_hidden\n",
        "\n",
        "    use_teacher_forcing = True if random.random() < teacher_forcing_ratio else False\n",
        "\n",
        "    if use_teacher_forcing:\n",
        "        for di in range(target_length):\n",
        "            decoder_output, decoder_hidden, decoder_attention = decoder(\n",
        "                decoder_input, decoder_hidden, encoder_outputs)\n",
        "            loss += criterion(decoder_output, target_tensor[di])\n",
        "            decoder_input = target_tensor[di]\n",
        "    else:\n",
        "        for di in range(target_length):\n",
        "            decoder_output, decoder_hidden, decoder_attention = decoder(\n",
        "                decoder_input, decoder_hidden, encoder_outputs)\n",
        "            topv, topi = decoder_output.topk(1)\n",
        "            decoder_input = topi.squeeze().detach()\n",
        "\n",
        "            loss += criterion(decoder_output, target_tensor[di])\n",
        "            if decoder_input.item() == EOS_token:\n",
        "                break\n",
        "\n",
        "    loss.backward()\n",
        "\n",
        "    encoder_optimizer.step()\n",
        "    decoder_optimizer.step()\n",
        "\n",
        "    return loss.item() / target_length\n"
      ],
      "metadata": {
        "id": "CvKmiwlnLtFf",
        "execution": {
          "iopub.status.busy": "2024-04-20T21:24:17.643055Z",
          "iopub.execute_input": "2024-04-20T21:24:17.643303Z",
          "iopub.status.idle": "2024-04-20T21:24:17.655771Z",
          "shell.execute_reply.started": "2024-04-20T21:24:17.643282Z",
          "shell.execute_reply": "2024-04-20T21:24:17.654940Z"
        },
        "trusted": true
      },
      "execution_count": 16,
      "outputs": []
    },
    {
      "cell_type": "markdown",
      "source": [
        "This is a helper function to print time elapsed and estimated time\n",
        "remaining given the current time and progress %.\n",
        "\n",
        "\n"
      ],
      "metadata": {
        "id": "fxwlsYBxMI-A"
      }
    },
    {
      "cell_type": "code",
      "source": [
        "import time\n",
        "import math\n",
        "\n",
        "\n",
        "def asMinutes(s):\n",
        "    m = math.floor(s / 60)\n",
        "    s -= m * 60\n",
        "    return '%dm %ds' % (m, s)\n",
        "\n",
        "\n",
        "def timeSince(since, percent):\n",
        "    now = time.time()\n",
        "    s = now - since\n",
        "    es = s / (percent)\n",
        "    rs = es - s\n",
        "    return '%s (- %s)' % (asMinutes(s), asMinutes(rs))"
      ],
      "metadata": {
        "id": "4Wb3PO24LwhG",
        "execution": {
          "iopub.status.busy": "2024-04-20T21:24:17.657142Z",
          "iopub.execute_input": "2024-04-20T21:24:17.657464Z",
          "iopub.status.idle": "2024-04-20T21:24:17.668451Z",
          "shell.execute_reply.started": "2024-04-20T21:24:17.657434Z",
          "shell.execute_reply": "2024-04-20T21:24:17.667608Z"
        },
        "trusted": true
      },
      "execution_count": 17,
      "outputs": []
    },
    {
      "cell_type": "markdown",
      "source": [
        "The whole training process looks like this:\n",
        "\n",
        "-  Start a timer\n",
        "-  Initialize optimizers and criterion\n",
        "-  Create set of training pairs\n",
        "-  Start empty losses array for plotting\n",
        "\n",
        "Then we call ``train`` many times and occasionally print the progress (%\n",
        "of examples, time so far, estimated time) and average loss.\n",
        "\n",
        "\n"
      ],
      "metadata": {
        "id": "lu_oDmPEMI-D"
      }
    },
    {
      "cell_type": "code",
      "source": [
        "def trainIters(encoder, decoder, epochs, print_every=1000, plot_every=100, learning_rate=0.01):\n",
        "    start = time.time()\n",
        "    plot_losses = []\n",
        "    print_loss_total = 0  # Reset every print_every\n",
        "    plot_loss_total = 0  # Reset every plot_every\n",
        "\n",
        "    encoder_optimizer = optim.SGD(encoder.parameters(), lr=learning_rate)\n",
        "    decoder_optimizer = optim.SGD(decoder.parameters(), lr=learning_rate)\n",
        "\n",
        "    criterion = nn.NLLLoss()\n",
        "\n",
        "    iter = 1\n",
        "    n_iters = len(train_pairs) * epochs\n",
        "\n",
        "    for epoch in range(epochs):\n",
        "        print(\"Epoch: %d/%d\" % (epoch, epochs))\n",
        "        for training_pair in train_pairs:\n",
        "            training_pair = tensorsFromPair(training_pair)\n",
        "\n",
        "            input_tensor = training_pair[0]\n",
        "            target_tensor = training_pair[1]\n",
        "\n",
        "            loss = train(input_tensor, target_tensor, encoder,\n",
        "                        decoder, encoder_optimizer, decoder_optimizer, criterion)\n",
        "            print_loss_total += loss\n",
        "            plot_loss_total += loss\n",
        "\n",
        "            if iter % print_every == 0:\n",
        "                print_loss_avg = print_loss_total / print_every\n",
        "                print_loss_total = 0\n",
        "                print('%s (%d %d%%) %.4f' % (timeSince(start, iter / n_iters),\n",
        "                                            iter, iter / n_iters * 100, print_loss_avg))\n",
        "\n",
        "            iter +=1"
      ],
      "metadata": {
        "id": "7mPu4xWzLx-O",
        "execution": {
          "iopub.status.busy": "2024-04-20T21:24:17.669489Z",
          "iopub.execute_input": "2024-04-20T21:24:17.669788Z",
          "iopub.status.idle": "2024-04-20T21:24:17.679442Z",
          "shell.execute_reply.started": "2024-04-20T21:24:17.669765Z",
          "shell.execute_reply": "2024-04-20T21:24:17.678602Z"
        },
        "trusted": true
      },
      "execution_count": 18,
      "outputs": []
    },
    {
      "cell_type": "markdown",
      "source": [
        "Evaluation\n",
        "==========\n",
        "\n",
        "Evaluation is mostly the same as training, but there are no targets so\n",
        "we simply feed the decoder's predictions back to itself for each step.\n",
        "Every time it predicts a word we add it to the output string, and if it\n",
        "predicts the EOS token we stop there. We also store the decoder's\n",
        "attention outputs for display later.\n",
        "\n",
        "\n"
      ],
      "metadata": {
        "id": "-s52RCR0MI-K"
      }
    },
    {
      "cell_type": "code",
      "source": [
        "def evaluate(encoder, attn_decoder, sentence, max_length=MAX_LENGTH):\n",
        "    with torch.no_grad():\n",
        "        input_tensor = tensorFromSentence(input_lang, sentence)\n",
        "        input_length = input_tensor.size()[0]\n",
        "        encoder_hidden = encoder.initHidden()\n",
        "\n",
        "        encoder_outputs = torch.zeros(max_length, encoder.hidden_size, device=device)\n",
        "\n",
        "        for ei in range(input_length):\n",
        "            encoder_output, encoder_hidden = encoder(input_tensor[ei], encoder_hidden)\n",
        "            encoder_outputs[ei] = encoder_output[0, 0]\n",
        "\n",
        "        decoder_input = torch.tensor([[SOS_token]], device=device)\n",
        "\n",
        "        decoder_hidden = encoder_hidden\n",
        "\n",
        "        decoded_words = []\n",
        "        decoder_attentions = torch.zeros(max_length, max_length)\n",
        "\n",
        "        for di in range(max_length):\n",
        "            decoder_output, decoder_hidden, decoder_attention = attn_decoder(\n",
        "                decoder_input, decoder_hidden, encoder_outputs)\n",
        "            decoder_attentions[di] = decoder_attention.data\n",
        "            topv, topi = decoder_output.data.topk(1)\n",
        "\n",
        "            if topi.item() == EOS_token:\n",
        "                decoded_words.append('<EOS>')\n",
        "                break\n",
        "            else:\n",
        "                decoded_words.append(output_lang.index2word[topi.item()])\n",
        "\n",
        "            decoder_input = topi.squeeze().detach()\n",
        "\n",
        "        return decoded_words, decoder_attentions[:di + 1]\n"
      ],
      "metadata": {
        "id": "tCrTcoH0L04g",
        "execution": {
          "iopub.status.busy": "2024-04-20T21:24:17.680700Z",
          "iopub.execute_input": "2024-04-20T21:24:17.681430Z",
          "iopub.status.idle": "2024-04-20T21:24:17.692673Z",
          "shell.execute_reply.started": "2024-04-20T21:24:17.681397Z",
          "shell.execute_reply": "2024-04-20T21:24:17.691717Z"
        },
        "trusted": true
      },
      "execution_count": 19,
      "outputs": []
    },
    {
      "cell_type": "markdown",
      "source": [
        "We can evaluate random sentences from the training set and print out the\n",
        "input, target, and output to make some subjective quality judgements:\n",
        "\n",
        "\n"
      ],
      "metadata": {
        "id": "9DXbiFX1MI-N"
      }
    },
    {
      "cell_type": "code",
      "source": [
        "\n",
        "def evaluateRandomly(encoder, decoder, n=10):\n",
        "    for i in range(n):\n",
        "        pair = random.choice(pairs)\n",
        "        print('>', pair[0])\n",
        "        print('=', pair[1])\n",
        "        output_words, attentions = evaluate(encoder, decoder, pair[0])  # Adjusted to receive two outputs\n",
        "        output_sentence = ' '.join(output_words)\n",
        "        print('<', output_sentence)\n",
        "        print('')\n"
      ],
      "metadata": {
        "id": "XoYOvTaOL4oI",
        "execution": {
          "iopub.status.busy": "2024-04-20T21:24:17.693614Z",
          "iopub.execute_input": "2024-04-20T21:24:17.693893Z",
          "iopub.status.idle": "2024-04-20T21:24:17.704709Z",
          "shell.execute_reply.started": "2024-04-20T21:24:17.693870Z",
          "shell.execute_reply": "2024-04-20T21:24:17.703901Z"
        },
        "trusted": true
      },
      "execution_count": 20,
      "outputs": []
    },
    {
      "cell_type": "code",
      "source": [
        "from torchmetrics.text.rouge import ROUGEScore\n",
        "from tqdm import tqdm\n",
        "import numpy as np\n",
        "\n",
        "rouge = ROUGEScore()\n",
        "\n",
        "def test(encoder, decoder, testing_pairs):\n",
        "    input_sentences = []\n",
        "    ground_truths = []\n",
        "    predictions = []\n",
        "    metric_score = {\n",
        "        \"rouge1_fmeasure\": [],\n",
        "        \"rouge1_precision\": [],\n",
        "        \"rouge1_recall\": [],\n",
        "        \"rouge2_fmeasure\": [],\n",
        "        \"rouge2_precision\": [],\n",
        "        \"rouge2_recall\": []\n",
        "    }\n",
        "\n",
        "    for pair in tqdm(testing_pairs):\n",
        "        input_sentence = pair[0]\n",
        "        gt = pair[1]\n",
        "        output_words, attentions = evaluate(encoder, decoder, input_sentence)  # Adjusted for attention\n",
        "        output_sentence = ' '.join(output_words)\n",
        "\n",
        "        input_sentences.append(input_sentence)\n",
        "        ground_truths.append(gt)\n",
        "        predictions.append(output_sentence)\n",
        "\n",
        "        try:\n",
        "            rs = rouge(output_sentence, gt)\n",
        "        except Exception as e:\n",
        "            print(f\"Error processing: {input_sentence}\")\n",
        "            continue\n",
        "\n",
        "        metric_score[\"rouge1_fmeasure\"].append(rs['rouge1_fmeasure'].item())\n",
        "        metric_score[\"rouge1_precision\"].append(rs['rouge1_precision'].item())\n",
        "        metric_score[\"rouge1_recall\"].append(rs['rouge1_recall'].item())\n",
        "        metric_score[\"rouge2_fmeasure\"].append(rs['rouge2_fmeasure'].item())\n",
        "        metric_score[\"rouge2_precision\"].append(rs['rouge2_precision'].item())\n",
        "        metric_score[\"rouge2_recall\"].append(rs['rouge2_recall'].item())\n",
        "\n",
        "    # Calculating average scores\n",
        "    for key in metric_score.keys():\n",
        "        metric_score[key] = np.mean(metric_score[key])\n",
        "\n",
        "    print(\"=== Evaluation Score - Rouge Score ===\")\n",
        "    print(f\"Rouge1 FMeasure: {metric_score['rouge1_fmeasure']}\")\n",
        "    print(f\"Rouge1 Precision: {metric_score['rouge1_precision']}\")\n",
        "    print(f\"Rouge1 Recall: {metric_score['rouge1_recall']}\")\n",
        "    print(f\"Rouge2 FMeasure: {metric_score['rouge2_fmeasure']}\")\n",
        "    print(f\"Rouge2 Precision: {metric_score['rouge2_precision']}\")\n",
        "    print(f\"Rouge2 Recall: {metric_score['rouge2_recall']}\")\n",
        "    print(\"=======================================\")\n",
        "\n",
        "    return input_sentences, ground_truths, predictions, metric_score\n"
      ],
      "metadata": {
        "id": "1DWJXsfd2q4A",
        "execution": {
          "iopub.status.busy": "2024-04-20T21:24:17.707484Z",
          "iopub.execute_input": "2024-04-20T21:24:17.708104Z",
          "iopub.status.idle": "2024-04-20T21:24:20.740722Z",
          "shell.execute_reply.started": "2024-04-20T21:24:17.708079Z",
          "shell.execute_reply": "2024-04-20T21:24:20.739841Z"
        },
        "trusted": true
      },
      "execution_count": 21,
      "outputs": []
    },
    {
      "cell_type": "markdown",
      "source": [
        "Training and Evaluating\n",
        "=======================\n",
        "\n",
        "With all these helper functions in place (it looks like extra work, but\n",
        "it makes it easier to run multiple experiments) we can actually\n",
        "initialize a network and start training.\n",
        "\n",
        "Remember that the input sentences were heavily filtered. For this small\n",
        "dataset we can use relatively small networks of 256 hidden nodes and a\n",
        "single GRU layer. After about 40 minutes on a MacBook CPU we'll get some\n",
        "reasonable results.\n",
        "\n",
        ".. Note::\n",
        "   If you run this notebook you can train, interrupt the kernel,\n",
        "   evaluate, and continue training later. Comment out the lines where the\n",
        "   encoder and decoder are initialized and run ``trainIters`` again.\n",
        "\n",
        "\n"
      ],
      "metadata": {
        "id": "ppy3qh7fMI-R"
      }
    },
    {
      "cell_type": "code",
      "source": [
        "hidden_size = 512\n",
        "encoder1 = EncoderRNN(input_lang.n_words, hidden_size).to(device)\n",
        "decoder1 = AttnDecoderRNN(hidden_size, output_lang.n_words).to(device)\n",
        "\n",
        "trainIters(encoder1, decoder1, 5, print_every=5000)"
      ],
      "metadata": {
        "id": "bzMeJbVDL6Un",
        "execution": {
          "iopub.status.busy": "2024-04-20T21:24:20.741873Z",
          "iopub.execute_input": "2024-04-20T21:24:20.742358Z",
          "iopub.status.idle": "2024-04-20T21:50:10.374977Z",
          "shell.execute_reply.started": "2024-04-20T21:24:20.742328Z",
          "shell.execute_reply": "2024-04-20T21:50:10.374139Z"
        },
        "trusted": true,
        "colab": {
          "base_uri": "https://localhost:8080/"
        },
        "outputId": "8ba1a399-9ddd-4569-8cb6-29ec1bb81836"
      },
      "execution_count": 22,
      "outputs": [
        {
          "output_type": "stream",
          "name": "stdout",
          "text": [
            "Epoch: 0/5\n",
            "1m 53s (- 36m 59s) (5000 4%) 3.2136\n",
            "3m 44s (- 34m 49s) (10000 9%) 2.6930\n",
            "5m 36s (- 32m 55s) (15000 14%) 2.3930\n",
            "7m 29s (- 31m 7s) (20000 19%) 2.1858\n",
            "Epoch: 1/5\n",
            "9m 21s (- 29m 15s) (25000 24%) 1.9965\n",
            "11m 14s (- 27m 23s) (30000 29%) 1.8329\n",
            "13m 8s (- 25m 33s) (35000 33%) 1.6668\n",
            "15m 2s (- 23m 43s) (40000 38%) 1.5761\n",
            "Epoch: 2/5\n",
            "16m 56s (- 21m 51s) (45000 43%) 1.4842\n",
            "18m 49s (- 19m 59s) (50000 48%) 1.3800\n",
            "20m 43s (- 18m 7s) (55000 53%) 1.2860\n",
            "22m 37s (- 16m 14s) (60000 58%) 1.2145\n",
            "Epoch: 3/5\n",
            "24m 31s (- 14m 21s) (65000 63%) 1.1399\n",
            "26m 24s (- 12m 28s) (70000 67%) 1.0974\n",
            "28m 18s (- 10m 35s) (75000 72%) 1.0652\n",
            "30m 11s (- 8m 42s) (80000 77%) 1.0173\n",
            "Epoch: 4/5\n",
            "32m 7s (- 6m 49s) (85000 82%) 0.9958\n",
            "34m 2s (- 4m 56s) (90000 87%) 0.9486\n",
            "35m 57s (- 3m 3s) (95000 92%) 0.9325\n",
            "37m 53s (- 1m 10s) (100000 97%) 0.8943\n"
          ]
        }
      ]
    },
    {
      "cell_type": "code",
      "source": [
        "evaluateRandomly(encoder1, decoder1)"
      ],
      "metadata": {
        "id": "gc2y_EGQUT-c",
        "execution": {
          "iopub.status.busy": "2024-04-20T21:50:10.376143Z",
          "iopub.execute_input": "2024-04-20T21:50:10.376568Z",
          "iopub.status.idle": "2024-04-20T21:50:10.460152Z",
          "shell.execute_reply.started": "2024-04-20T21:50:10.376532Z",
          "shell.execute_reply": "2024-04-20T21:50:10.459306Z"
        },
        "trusted": true,
        "colab": {
          "base_uri": "https://localhost:8080/"
        },
        "outputId": "0f54d918-4a3c-4df0-c379-413c168a39df"
      },
      "execution_count": 23,
      "outputs": [
        {
          "output_type": "stream",
          "name": "stdout",
          "text": [
            "> nous nous en occupons .\n",
            "= we re taking care of it .\n",
            "< we re taking care of care of you . <EOS>\n",
            "\n",
            "> je suis un bon chauffeur de taxi .\n",
            "= i m a good taxi driver .\n",
            "< i m a good driver driver . <EOS>\n",
            "\n",
            "> il est nerveux et facilement effraye .\n",
            "= he s nervous and easily frightened .\n",
            "< he s nervous and easily . <EOS>\n",
            "\n",
            "> ils vont essayer .\n",
            "= they re going to try .\n",
            "< they re going to try . <EOS>\n",
            "\n",
            "> je ne suis pas vraiment inquiet .\n",
            "= i m not really worried .\n",
            "< i m not really concerned . <EOS>\n",
            "\n",
            "> je n ai pas l habitude de me faire engueuler .\n",
            "= i m not used to being yelled at .\n",
            "< i m not used to being in at . <EOS>\n",
            "\n",
            "> elles sourient toutes les deux .\n",
            "= they re both smiling .\n",
            "< they re both smiling . <EOS>\n",
            "\n",
            "> je vais rester ici quelques jours .\n",
            "= i m going to stay here for a couple of days .\n",
            "< i m going to stay here for a couple of <EOS>\n",
            "\n",
            "> on n a pas le droit de parler francais ici .\n",
            "= you aren t allowed to speak french here .\n",
            "< you re not allowed to speak here french . <EOS>\n",
            "\n",
            "> tu es important .\n",
            "= you re important .\n",
            "< you are important . <EOS>\n",
            "\n"
          ]
        }
      ]
    },
    {
      "cell_type": "code",
      "source": [
        "input,gt,predict,score = test(encoder1, decoder1, train_pairs)"
      ],
      "metadata": {
        "id": "mcJQDHJ2-96c",
        "execution": {
          "iopub.status.busy": "2024-04-20T21:50:10.463749Z",
          "iopub.execute_input": "2024-04-20T21:50:10.464022Z",
          "iopub.status.idle": "2024-04-20T21:53:27.374965Z",
          "shell.execute_reply.started": "2024-04-20T21:50:10.463998Z",
          "shell.execute_reply": "2024-04-20T21:53:27.373919Z"
        },
        "trusted": true,
        "colab": {
          "base_uri": "https://localhost:8080/"
        },
        "outputId": "2a7a63fe-e2fc-447f-c7b7-5cbbe81acb5e"
      },
      "execution_count": 24,
      "outputs": [
        {
          "output_type": "stream",
          "name": "stderr",
          "text": [
            "100%|██████████| 20616/20616 [03:44<00:00, 91.88it/s]"
          ]
        },
        {
          "output_type": "stream",
          "name": "stdout",
          "text": [
            "=== Evaluation Score - Rouge Score ===\n",
            "Rouge1 FMeasure: 0.76076419900114\n",
            "Rouge1 Precision: 0.7099446450556358\n",
            "Rouge1 Recall: 0.8280390363195994\n",
            "Rouge2 FMeasure: 0.6189443285247765\n",
            "Rouge2 Precision: 0.5664647418563281\n",
            "Rouge2 Recall: 0.6926628764838755\n",
            "=======================================\n"
          ]
        },
        {
          "output_type": "stream",
          "name": "stderr",
          "text": [
            "\n"
          ]
        }
      ]
    },
    {
      "cell_type": "code",
      "source": [
        "input,gt,predict,score = test(encoder1, decoder1, test_pairs)"
      ],
      "metadata": {
        "id": "F81S9tbV6vtL",
        "execution": {
          "iopub.status.busy": "2024-04-20T21:53:27.376291Z",
          "iopub.execute_input": "2024-04-20T21:53:27.376624Z",
          "iopub.status.idle": "2024-04-20T21:53:49.316840Z",
          "shell.execute_reply.started": "2024-04-20T21:53:27.376594Z",
          "shell.execute_reply": "2024-04-20T21:53:49.315965Z"
        },
        "trusted": true,
        "colab": {
          "base_uri": "https://localhost:8080/"
        },
        "outputId": "d10149dc-a373-401f-c06e-52a8e1e807f7"
      },
      "execution_count": 25,
      "outputs": [
        {
          "output_type": "stream",
          "name": "stderr",
          "text": [
            "100%|██████████| 2291/2291 [00:25<00:00, 91.53it/s]"
          ]
        },
        {
          "output_type": "stream",
          "name": "stdout",
          "text": [
            "=== Evaluation Score - Rouge Score ===\n",
            "Rouge1 FMeasure: 0.6359108624396913\n",
            "Rouge1 Precision: 0.5967857203060547\n",
            "Rouge1 Recall: 0.6911359545101978\n",
            "Rouge2 FMeasure: 0.44621293393090944\n",
            "Rouge2 Precision: 0.41107260986401595\n",
            "Rouge2 Recall: 0.4983084304872063\n",
            "=======================================\n"
          ]
        },
        {
          "output_type": "stream",
          "name": "stderr",
          "text": [
            "\n"
          ]
        }
      ]
    },
    {
      "cell_type": "code",
      "source": [],
      "metadata": {
        "id": "WuacX-OHHNnU"
      },
      "execution_count": 25,
      "outputs": []
    }
  ]
}